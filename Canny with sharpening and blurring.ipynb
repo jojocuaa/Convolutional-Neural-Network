{
 "cells": [
  {
   "cell_type": "code",
   "execution_count": null,
   "metadata": {
    "collapsed": true
   },
   "outputs": [],
   "source": [
    "#train_test_split is now in model_selection.\n",
    "import os,cv2\n",
    "import numpy as np \n",
    "import matplotlib.pyplot as plt\n",
    "\n",
    "from sklearn.utils import shuffle \n",
    "from sklearn.model_selection import train_test_split \n",
    "    \n",
    "from skimage import feature\n",
    "\n",
    "from keras import backend as K \n",
    "K.set_image_dim_ordering('th') \n",
    " \n",
    "from keras.utils import np_utils \n",
    "from keras.models import Sequential\n",
    "from keras.layers.core import Dense, Dropout, Activation, Flatten \n",
    "from keras.layers.convolutional import Convolution2D, MaxPooling2D \n",
    "from keras.optimizers import SGD,RMSprop,Adam \n",
    "from sklearn.model_selection import StratifiedKFold "
   ]
  },
  {
   "cell_type": "code",
   "execution_count": null,
   "metadata": {
    "collapsed": true
   },
   "outputs": [],
   "source": [
    "img_rows=300 \n",
    "img_cols=300 \n",
    "num_channel=1 \n",
    "num_epoch=30 \n",
    " \n",
    "# Define the number of classes \n",
    "num_classes = 8 "
   ]
  },
  {
   "cell_type": "code",
   "execution_count": null,
   "metadata": {
    "collapsed": true
   },
   "outputs": [],
   "source": [
    "Path = os.getcwd()\n",
    "#num_classes = 8\n",
    "dataset_path = \"C:/Users/TA-D3TI-06 2018/Documents/Python Scripts/Dataset Ulos\"\n",
    "data = os.listdir(dataset_path)\n",
    "img_data_list=[] \n",
    "kernel_sharpening = np.array([[-1,-1,-1], \n",
    "                              [-1, 9,-1],\n",
    "                              [-1,-1,-1]])\n",
    "for folder_dataset in data:\n",
    "#     img_list = os.listdir(dataset_path+\"/\"+folder_dataset)\n",
    "    img_list=os.listdir(dataset_path+\"/\"+ folder_dataset)  \n",
    "    print ('Loaded the images of dataset-'+'{}\\n'.format(folder_dataset))  \n",
    "    for img in img_list:\n",
    "        input_img=cv2.imread(dataset_path + \"/\"  + folder_dataset + \"/\" + img)\n",
    "        input_img=cv2.cvtColor(input_img, cv2.COLOR_BGR2GRAY)\n",
    "        input_img = cv2.GaussianBlur(input_img,(5,5),0)\n",
    "        sharpened = cv2.filter2D(image, -1, kernel_sharpening)\n",
    "        #Holisticly Edge Detection using Canny\n",
    "        input_img=cv2.Canny(input_img, 10, 70)\n",
    "        \n",
    "        \n",
    "        input_img_resize=cv2.resize(input_img,(img_rows,img_cols))   \n",
    "        img_data_list.append(input_img_resize) \n",
    " \n",
    "img_data = np.array(img_data_list) \n",
    "img_data = img_data.astype('float32') \n",
    "img_data /= 255\n",
    "print (img_data.shape) "
   ]
  },
  {
   "cell_type": "code",
   "execution_count": null,
   "metadata": {
    "collapsed": true
   },
   "outputs": [],
   "source": [
    "if num_channel==1:  \n",
    "    if K.image_dim_ordering()=='th':   \n",
    "        img_data= np.expand_dims(img_data, axis=1)    \n",
    "        print (img_data.shape)  \n",
    "    else:   \n",
    "        img_data= np.expand_dims(img_data, axis=4)    \n",
    "        print (img_data.shape)    \n",
    "else:  \n",
    "    if K.image_dim_ordering()=='th':   \n",
    "        img_data=np.rollaxis(img_data,3,1)   \n",
    "        print (img_data.shape)    \n",
    "        \n",
    "# Assigning Labels \n",
    "\n",
    "num_of_samples = img_data.shape[0]\n",
    "labels = np.ones((num_of_samples,),dtype='int64')\n",
    "\n",
    "# =============================================================================\n",
    "# names = ['Ulos Sibolang', 'Ulos Sadum', 'Ulos Ragi Hidup','Ulos Mangiring',\n",
    "#'Ulos Harungguan', 'Ulos Ragi Hotang', 'Ulos Bintang Maratur', 'Ulos Sitolutuho']\n",
    "# labels[0:632]=0\n",
    "# labels[632:1440]=1\n",
    "# labels[1440:2248]=2\n",
    "# labels[2248:2912]=3\n",
    "# labels[2912:3176]=4\n",
    "# labels[3176:4272]=5\n",
    "# labels[4272:4888]=6\n",
    "# labels[4888:]=7\n",
    "# # convert class labels to on-hot encoding\n",
    "# =============================================================================\n",
    "\n",
    "names = ['Ulos Bintang Maratur', 'Ulos Ragi Hidup', 'Ulos Sitolutuho','Ulos Sibolang', \n",
    "         'Ulos Ragi Hotang', 'Ulos Sadum', 'Ulos Harungguan', 'Ulos Mangiring']\n",
    "labels[0:74]=0\n",
    "labels[75:149]=1\n",
    "labels[150:214]=2\n",
    "labels[215:303]=3\n",
    "labels[304:378]=4\n",
    "labels[379:453]=5\n",
    "labels[454:528]=6\n",
    "labels[529:603]=7\n",
    "\n",
    "Y = np_utils.to_categorical(labels, num_classes) \n",
    "#X = img_data\n",
    " \n",
    "# #Shuffle the dataset \n",
    "x,y = shuffle(img_data,Y, random_state=2) \n",
    "seed = 7 \n",
    "np.random.seed(seed) \n",
    "kfold = StratifiedKFold(n_splits=10, shuffle=True, random_state=seed) \n",
    " \n",
    "#from sklearn.model_selection import train_test_split\n",
    "#X_Train, X_Test, Y_Train, Y_Test = train_test_split(X, Y, train_size = 0.80, test_size = 0.20, random_state = 0)\n",
    "#input_shape=img_data[0].shape \n",
    "#input_shape\n",
    "#input_shape = input_shape + (1,)\n",
    "#input_shape\n",
    "#X_train = np.asarray( x[train_index]).reshape((len(X_train),360,380,1))\n",
    "#X_Test = np.asarray(X_Test).reshape((len(X_Test),900,900,1))\n",
    "#X_Train.shape"
   ]
  },
  {
   "cell_type": "code",
   "execution_count": null,
   "metadata": {
    "collapsed": true
   },
   "outputs": [],
   "source": [
    "input_shape = img_data[0].shape\n",
    "counter = 0 \n",
    "\n",
    "for train_index, test_index in kfold.split(x,y[:,0]):      \n",
    "    print(\"TRAIN:\", train_index, \"\\nTEST:\", test_index)      \n",
    "    X_train, X_test = x[train_index], x[test_index]      \n",
    "    y_train, y_test = y[train_index], y[test_index]      \n",
    "    counter+=1\n",
    "    nilai_learning_rate=0.001\n",
    "    opt=Adam(lr=nilai_learning_rate)\n",
    "    np.savetxt('C:/Users/TA-D3TI-06 2018/Documents/Python Scripts/output VAR and Canny/'+str(counter)+'-train_index.csv', train_index, fmt='%d', delimiter=',')\n",
    "    np.savetxt('C:/Users/TA-D3TI-06 2018/Documents/Python Scripts/output VAR and Canny/'+str(counter)+'-test_index.csv', test_index, fmt='%d', delimiter=',')\n"
   ]
  }
 ],
 "metadata": {
  "kernelspec": {
   "display_name": "TugasAkhir",
   "language": "python",
   "name": "tugasakhir"
  },
  "language_info": {
   "codemirror_mode": {
    "name": "ipython",
    "version": 3
   },
   "file_extension": ".py",
   "mimetype": "text/x-python",
   "name": "python",
   "nbconvert_exporter": "python",
   "pygments_lexer": "ipython3",
   "version": "3.5.6"
  }
 },
 "nbformat": 4,
 "nbformat_minor": 0
}
